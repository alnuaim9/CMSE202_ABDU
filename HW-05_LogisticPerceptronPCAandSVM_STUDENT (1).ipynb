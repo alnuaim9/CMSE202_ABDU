{
 "cells": [
  {
   "cell_type": "markdown",
   "metadata": {},
   "source": [
    "# Homework Assignment #5 (Individual)\n"
   ]
  },
  {
   "cell_type": "markdown",
   "metadata": {},
   "source": [
    "### <p style=\"text-align: right;\"> &#9989; Mohammed ALnuaimi.</p>\n",
    "### <p style=\"text-align: right;\"> &#9989; Alnuaim9.</p>"
   ]
  },
  {
   "cell_type": "markdown",
   "metadata": {},
   "source": [
    "### Goals for this homework assignment\n",
    "\n",
    "By the end of this assignment, you should be able to:\n",
    "* Use `git` to track your work and turn in your assignment\n",
    "* Read in data and prepare it for modeling\n",
    "* Build, fit, and evaluate Logistic Regression models\n",
    "* Build, fit, and evaluate Perceptron models\n",
    "* Use PCA to reduce the number of features\n",
    "* Build, fit, and evaluate an SVC model on PCA-transformed data\n",
    "* Systematically investigate the effects of the number of PCA components on an SVC model of data\n",
    "\n",
    "### Assignment instructions:\n",
    "\n",
    "Work through the following assignment, making sure to follow all of the directions and answer all of the questions.\n",
    "\n",
    "There are **41 points** possible on this assignment. Point values for each part are included in the section headers.\n",
    "\n",
    "This assignment is **due at 11:59 pm on Friday, April 15th**. It should be uploaded into the \"Homework Assignments\" submission folder for Homework #5. Submission instructions can be found at the end of the notebook.. \n"
   ]
  },
  {
   "cell_type": "markdown",
   "metadata": {},
   "source": [
    "---\n",
    "## Part 1: Add to your Git repository to track your progress on your assignment (4 points)\n",
    "\n",
    "For this assignment, you're going to add it to the `cmse202-s22-turnin` repository you created in class so that you can track your progress on the assignment and preserve the final version that you turn in. In order to do this you need to\n",
    "\n",
    "**&#9989; Do the following**:\n",
    "\n",
    "1. Navigate to your `cmse202-s22-turnin` repository and create a new directory called `hw-05`.\n",
    "2. Move this notebook into that **new directory** in your repository, then **add it and commit it to your repository**.\n",
    "1. Finally, to test that everything is working, \"git push\" the file so that it ends up in your GitHub repository.\n",
    "\n",
    "**Important**: Double check you've added your Professor and your TA as collaborators to your \"turnin\" repository (you should have done this in the previous homework assignment).\n",
    "\n",
    "**Also important**: Make sure that the version of this notebook that you are working on is the same one that you just added to your repository! If you are working on a different copy of the notebook, **none of your changes will be tracked**!\n",
    "\n",
    "If everything went as intended, the file should now show up on your GitHub account in the \"`cmse202-s22-turnin`\" repository inside the `hw-05` directory that you just created.  Periodically, **you'll be asked to commit your changes to the repository and push them to the remote GitHub location**. Of course, you can always commit your changes more often than that, if you wish.  It can be good to get into a habit of committing your changes any time you make a significant modification, or when you stop working on the project for a bit.\n",
    "\n",
    "&#9989; **Do this**: Before you move on, put the command that your instructor should run to clone your repository in the markdown cell below."
   ]
  },
  {
   "cell_type": "markdown",
   "metadata": {},
   "source": [
    "\n",
    "**git clone https://github.com/alnuaim9/cmse202-s22-turnin.git**"
   ]
  },
  {
   "cell_type": "markdown",
   "metadata": {},
   "source": [
    "&#9989; **Do this**: Before you move on, create a new branch called `hw05_branch` and move into it. In the cell below put the command(s) to create a new branch and to checkout the new branch. (_Note_: your TA will be able to see if you have created the branch and its history)."
   ]
  },
  {
   "cell_type": "markdown",
   "metadata": {},
   "source": [
    "**git checkout -b hw04_branch**\n"
   ]
  },
  {
   "cell_type": "markdown",
   "metadata": {},
   "source": [
    "&#9989; **Do this**: Import necessary packages"
   ]
  },
  {
   "cell_type": "code",
   "execution_count": 44,
   "metadata": {},
   "outputs": [],
   "source": [
    "import numpy as np\n",
    "import pandas as pd\n",
    "import matplotlib.pylab as plt\n",
    "from sklearn.model_selection import train_test_split\n",
    "from sklearn.model_selection import GridSearchCV\n",
    "from sklearn.metrics import classification_report\n",
    "from sklearn.metrics import confusion_matrix, accuracy_score\n",
    "from sklearn.linear_model import Perceptron\n",
    "from sklearn.svm import SVC\n",
    "from sklearn.decomposition import PCA\n",
    "import statsmodels.api as sm"
   ]
  },
  {
   "cell_type": "markdown",
   "metadata": {},
   "source": [
    "---\n",
    "<a id=\"loading\"></a>\n",
    "## Part 2. Logistic Regression (12 points)\n",
    "### 2.1 Data processing (5 points)\n",
    "For this part, you will read and process the dataset `hw5_data.csv` and split the training and testing sets.\n",
    "\n",
    "The provided data corresponds to a molecular biology dataset, where each row represents a patient classified into either \"active\" or \"repressive\". The columns represent features, where each feature comes from the quantification of a specific gene. Ten genes (ten features) are measured. The goal is to make predictive models that can classify patients (\"active\" or \"repressive\") based on the ten features.\n",
    "\n",
    "The dataset is located at:\n",
    "`https://raw.githubusercontent.com/msu-cmse-courses/cmse202-S22-data/main/data/hw5_data.csv`\n",
    "\n",
    "\n",
    "**&#9989; Question 2.1.1 (1 point):** Read the `hw5_data.csv` file into your notebook and print out the unique labels in the `label` columns. \n",
    "\n",
    "Note: each row represents one data point and each column (except the `label` column) represents one feature. The `label` column corresponds to the class labels for every data point. There are two types of unique class labels in the `label` column. "
   ]
  },
  {
   "cell_type": "code",
   "execution_count": 98,
   "metadata": {},
   "outputs": [
    {
     "name": "stdout",
     "output_type": "stream",
     "text": [
      "['active' 'repressive']\n"
     ]
    }
   ],
   "source": [
    "# Put your code here\n",
    "data=pd.read_csv('hw5_data.csv')\n",
    "print(data['label'].unique())\n"
   ]
  },
  {
   "cell_type": "markdown",
   "metadata": {},
   "source": [
    "**&#9989; Question 2.1.2 (1 point):** To simplify the process of data modeling, we should convert the labels from strings to integers.\n",
    "\n",
    "Replace all of the strings in your `label` column with integers based on the following:\n",
    "\n",
    "| original label | integer label |\n",
    "| -------- | -------- |\n",
    "| repressive | 0 |\n",
    "| active | 1 |\n",
    "\n",
    "Once you've replaced the labels, display your DataFrame and confirm that it looks correct."
   ]
  },
  {
   "cell_type": "code",
   "execution_count": 99,
   "metadata": {},
   "outputs": [],
   "source": [
    "# Put your code here\n",
    "data[\"label\"].replace({\"repressive\": 0, \"active\":1}, inplace=True)\n"
   ]
  },
  {
   "cell_type": "code",
   "execution_count": 100,
   "metadata": {},
   "outputs": [
    {
     "name": "stdout",
     "output_type": "stream",
     "text": [
      "     label  feature_1  feature_2  feature_3  feature_4  feature_5  feature_6  \\\n",
      "0        1   0.000168   1.089799   3.706677   1.839418   1.000414   0.751246   \n",
      "1        1   0.355099   0.000000   2.247742        NaN   0.000000   0.194369   \n",
      "2        1   0.001236   0.000000        NaN   0.814211   2.696122   0.221476   \n",
      "3        1   0.690140   0.000000   0.687331   0.000000   0.527291   0.185705   \n",
      "4        1   1.376770   0.631267   2.090756   1.581667   0.793976   0.846570   \n",
      "..     ...        ...        ...        ...        ...        ...        ...   \n",
      "995      0   1.539002   0.499277   0.000000   1.934047   0.000000   0.750042   \n",
      "996      0   0.004665   0.356522   0.000000   1.646765   0.198733   0.605987   \n",
      "997      0   0.368634   2.356287   1.937731   0.684271   1.801650   1.492007   \n",
      "998      0   0.000000   1.668051   0.000000   1.213437   0.403462   1.526797   \n",
      "999      0   1.177402   0.000000   1.970539   0.119612   0.777841  -0.106966   \n",
      "\n",
      "     feature_7  feature_8  feature_9  feature_10  \n",
      "0    -0.077189   0.949589   1.641961    1.102132  \n",
      "1     0.116891  -0.059497   1.086607    0.508670  \n",
      "2     0.229138  -0.173686   1.091221    1.048915  \n",
      "3    -0.089479  -0.379929  -0.093369    0.272125  \n",
      "4     0.178551   0.245401   1.221811    0.111456  \n",
      "..         ...        ...        ...         ...  \n",
      "995   0.605361   0.436925   1.426063    0.540208  \n",
      "996   0.306014   0.437594   1.220802    0.908293  \n",
      "997   0.463434   1.313578   0.908521    0.958253  \n",
      "998   0.274236   1.283074   0.795663    0.757853  \n",
      "999   0.368507   0.138330   0.340818   -0.378622  \n",
      "\n",
      "[1000 rows x 11 columns]\n"
     ]
    }
   ],
   "source": [
    "print(data)"
   ]
  },
  {
   "cell_type": "markdown",
   "metadata": {},
   "source": [
    "**&#9989; Question 2.1.3 (1 point):** At this point, you've hopefully noticed that some of the rows seems to have missing data values as indicated by the existence of `NaN` values. Since we don't necessarily know what to replace these values with, let's just play it safe and remove all of the rows that have `NaN` in any of the column entries. This should help to ensure that we don't end up with errors or confusing results when we try to classify the data.\n",
    "\n",
    "Remove all of the rows that contain a `NaN` in any column. **Make sure you actually store this new version of your dataframe either in the original variable name or in a new variable name**. If everything went as intended, you should find that you have 793 rows left over."
   ]
  },
  {
   "cell_type": "code",
   "execution_count": 101,
   "metadata": {},
   "outputs": [],
   "source": [
    "# Put your code here \n",
    "data.dropna(inplace=True)"
   ]
  },
  {
   "cell_type": "code",
   "execution_count": 102,
   "metadata": {},
   "outputs": [
    {
     "data": {
      "text/plain": [
       "793"
      ]
     },
     "execution_count": 102,
     "metadata": {},
     "output_type": "execute_result"
    }
   ],
   "source": [
    "len(data)"
   ]
  },
  {
   "cell_type": "markdown",
   "metadata": {},
   "source": [
    "**&#9989; Question 2.1.4 (1 point):** As we've seen when working with `sklearn` it can be much easier to work with the data if we have separate variables: one that stores the feature matrix and one that stores the class labels.\n",
    "\n",
    "Split your DataFrame so that you have two separate DataFrames: (1) one called `features`, which contains all columns of features; and (2) one called `labels`, which is a single-column dataframe that contains all of the *new* integer labels you just created. "
   ]
  },
  {
   "cell_type": "code",
   "execution_count": 103,
   "metadata": {},
   "outputs": [],
   "source": [
    "# Put your code here\n",
    "features= data.loc[:, data.columns != 'label']\n",
    "labels= data.loc[:,data.columns=='label']\n",
    "\n",
    "\n"
   ]
  },
  {
   "cell_type": "markdown",
   "metadata": {},
   "source": [
    "&#9989; **Question 2.1.5 (1 point):** How balanced is your dataset? You need to write a bit of code to figure out how balanced your dataset is, by counting the numbers of data points of each classe label. "
   ]
  },
  {
   "cell_type": "code",
   "execution_count": 104,
   "metadata": {},
   "outputs": [
    {
     "name": "stdout",
     "output_type": "stream",
     "text": [
      "This is the precentage of ones in the label feature,  49.30643127364439\n",
      "This is the precentage of zeroes in the label feature,  50.69356872635561\n"
     ]
    }
   ],
   "source": [
    "# Put your code here\n",
    "ones= labels.loc[labels['label'] == 1]\n",
    "zeros= labels.loc[labels['label'] == 0]\n",
    "\n",
    "print(\"This is the precentage of ones in the label feature, \",len(ones)/len(features)*100)\n",
    "print(\"This is the precentage of zeroes in the label feature, \",len(zeros)/len(features)*100)"
   ]
  },
  {
   "cell_type": "markdown",
   "metadata": {},
   "source": [
    "<font size=+3>&#9998;</font> I would say that its pretty close. Yeah its balanced"
   ]
  },
  {
   "cell_type": "markdown",
   "metadata": {},
   "source": [
    "---\n",
    "### 2.2 Logistic Regression (7 points)\n",
    "\n",
    "For this part, you will apply logistic regression to tackle th classification problem: predicting class labels based on the features.\n",
    "\n",
    "**&#9989; Question 2.2.1 (1 point):** Split your data into a training and a testing set with a training set representing 75% of your data. For reproducibility , set the `random_state` argument to `314159`. Print the lengths to show you have the right number of entries for the training and testing sets."
   ]
  },
  {
   "cell_type": "code",
   "execution_count": 105,
   "metadata": {},
   "outputs": [
    {
     "name": "stdout",
     "output_type": "stream",
     "text": [
      "594\n",
      "199\n"
     ]
    }
   ],
   "source": [
    "# Put your code here\n",
    "train_vectors,test_vectors,train_labels,test_labels=train_test_split(features,labels,test_size=0.25,\n",
    "                                                                     random_state=314159)\n",
    "\n",
    "print(len(train_vectors))\n",
    "print(len(test_vectors))"
   ]
  },
  {
   "cell_type": "markdown",
   "metadata": {},
   "source": [
    "**&#9989; Question 2.2.2 (3 points):** Build a Logistic regression model based on default settings.\n",
    "\n",
    "Add constant term in both training and testing features, fit Logistic regression based on the training set, and then print out the model summary.\n",
    "\n",
    "**Note:** You can use the built-in model `Logit` in `statsmodels.api`.\n"
   ]
  },
  {
   "cell_type": "code",
   "execution_count": 106,
   "metadata": {},
   "outputs": [
    {
     "name": "stdout",
     "output_type": "stream",
     "text": [
      "Optimization terminated successfully.\n",
      "         Current function value: 0.620529\n",
      "         Iterations 6\n",
      "                           Logit Regression Results                           \n",
      "==============================================================================\n",
      "Dep. Variable:                  label   No. Observations:                  594\n",
      "Model:                          Logit   Df Residuals:                      583\n",
      "Method:                           MLE   Df Model:                           10\n",
      "Date:                Fri, 15 Apr 2022   Pseudo R-squ.:                  0.1039\n",
      "Time:                        09:42:06   Log-Likelihood:                -368.59\n",
      "converged:                       True   LL-Null:                       -411.32\n",
      "Covariance Type:            nonrobust   LLR p-value:                 4.244e-14\n",
      "==============================================================================\n",
      "                 coef    std err          z      P>|z|      [0.025      0.975]\n",
      "------------------------------------------------------------------------------\n",
      "const         -0.8952      0.234     -3.830      0.000      -1.353      -0.437\n",
      "feature_1      0.5892      0.158      3.721      0.000       0.279       0.900\n",
      "feature_2      0.2239      0.427      0.525      0.600      -0.612       1.060\n",
      "feature_3      0.3242      0.072      4.475      0.000       0.182       0.466\n",
      "feature_4     -0.3273      0.332     -0.985      0.325      -0.979       0.324\n",
      "feature_5     -0.0688      0.150     -0.460      0.646      -0.362       0.224\n",
      "feature_6      0.2728      0.462      0.590      0.555      -0.633       1.179\n",
      "feature_7     -0.3599      0.437     -0.823      0.410      -1.217       0.497\n",
      "feature_8     -0.2714      0.440     -0.617      0.537      -1.133       0.590\n",
      "feature_9     -0.0728      0.435     -0.167      0.867      -0.925       0.780\n",
      "feature_10    -0.0810      0.255     -0.317      0.751      -0.581       0.419\n",
      "==============================================================================\n"
     ]
    }
   ],
   "source": [
    "# Put your code here\n",
    "train_vectors=sm.add_constant(train_vectors)\n",
    "test_vectors=sm.add_constant(test_vectors)\n",
    "logit_model = sm.Logit(train_labels,train_vectors)\n",
    "result = logit_model.fit()\n",
    "print(result.summary() )\n"
   ]
  },
  {
   "cell_type": "markdown",
   "metadata": {},
   "source": [
    "&#9989; **Question 2.2.3 (1 point):** What is the Pseudo R^2? Which features have p-value < 0.05?"
   ]
  },
  {
   "cell_type": "markdown",
   "metadata": {},
   "source": [
    "<font size=+3>&#9998;</font> 0.1099 and feature 1,2,4 only"
   ]
  },
  {
   "cell_type": "markdown",
   "metadata": {},
   "source": [
    "&#9989; **Question 2.2.4 (2 points):** Make predictions for the testing set using the trained model.\n",
    "\n",
    "Note: the logistic regression model predicts the probability of belonging to class 1. To make the final binary classification, let's the threshold to be 0.5, which means that every sample in the testing set with predicted probability scores greater than 0.5 will be predicted as '1', and other samples with predicted probability less than 0.5 will be predicted as '0'. \n",
    "\n",
    "Show the model's accuracy score based on the testing set."
   ]
  },
  {
   "cell_type": "code",
   "execution_count": 107,
   "metadata": {},
   "outputs": [
    {
     "name": "stdout",
     "output_type": "stream",
     "text": [
      "0.6683417085427136 this is the acuuracy score\n"
     ]
    }
   ],
   "source": [
    "# Put your code here\n",
    "from sklearn import metrics\n",
    "ynew = result.predict(test_vectors)\n",
    "ynew=round(ynew)\n",
    "x=metrics.accuracy_score(test_labels,ynew)\n",
    "print(x,\"this is the acuuracy score\")\n"
   ]
  },
  {
   "cell_type": "markdown",
   "metadata": {},
   "source": [
    "---\n",
    "### &#128721; STOP\n",
    "**Pause to commit your changes to your Git repository!**\n",
    "\n",
    "Take a moment to save your notebook, commit the changes to your Git repository using the commit message \"Committing Part 2\", and push the changes to GitHub.\n",
    "\n",
    "---"
   ]
  },
  {
   "cell_type": "markdown",
   "metadata": {},
   "source": [
    "---\n",
    "## Part 3. Perceptron (5 points)\n",
    "\n",
    "For this part, you will use another model, Perceptron, to continue working on the same classification problem.\n",
    "\n",
    "**&#9989; Question 3.1 (2 points):** (1) Build a Perceptron model with default settings, and fit the model based on the training set.\n",
    "\n",
    "(2) Apply the trained model on the test features to predict the labels for the testing dataset. \n",
    "\n",
    "(3) Evaluate the model by printing out the confusion matrix and classification report, based on its performance on the testing dataset.\n",
    "\n",
    "**Note:** You can use the built-in model `Perceptron` in `sklearn`."
   ]
  },
  {
   "cell_type": "code",
   "execution_count": 108,
   "metadata": {},
   "outputs": [
    {
     "name": "stdout",
     "output_type": "stream",
     "text": [
      "score on test data:  0.6030150753768844\n",
      "              precision    recall  f1-score   support\n",
      "\n",
      "           0       1.00      0.54      0.70       173\n",
      "           1       0.25      1.00      0.40        26\n",
      "\n",
      "    accuracy                           0.60       199\n",
      "   macro avg       0.62      0.77      0.55       199\n",
      "weighted avg       0.90      0.60      0.66       199\n",
      "\n"
     ]
    }
   ],
   "source": [
    "# Put your code here\n",
    "p = Perceptron()\n",
    "p=p.fit(train_vectors, np.ravel(train_labels))\n",
    "\n",
    "\n",
    "\n",
    "\n",
    "\n",
    "predictions_test = p.predict(test_vectors)\n",
    "test_score = accuracy_score(predictions_test, test_labels)\n",
    "\n",
    "\n",
    "print(\"score on test data: \", test_score)\n",
    "print(classification_report(predictions_test, test_labels))"
   ]
  },
  {
   "cell_type": "code",
   "execution_count": 109,
   "metadata": {},
   "outputs": [
    {
     "data": {
      "text/plain": [
       "array([[94,  0],\n",
       "       [79, 26]])"
      ]
     },
     "execution_count": 109,
     "metadata": {},
     "output_type": "execute_result"
    }
   ],
   "source": [
    "(confusion_matrix(test_labels,predictions_test))"
   ]
  },
  {
   "cell_type": "markdown",
   "metadata": {},
   "source": [
    "**&#9989; Question 3.2 (3 points):**. Finding the best penalty term.\n",
    "\n",
    "`Perceptron` from the `sklearn` can employ different penalty terms, including `l1`, `l2`, and `elasticnet` (Note: check the `penalty` argument of `Perceptron`). Apply the Perceptron on the training dataset again, based on different penalty terms (i.e. make 3 Perceptron models). Print out the accuray score of each model, based on the testing dataset. \n",
    "\n",
    "Which penalty term results in the best accuracy?\n",
    "\n",
    "## The best one was l1 it had 58% accuracy "
   ]
  },
  {
   "cell_type": "code",
   "execution_count": 110,
   "metadata": {},
   "outputs": [
    {
     "name": "stdout",
     "output_type": "stream",
     "text": [
      "score on test data:  0.4723618090452261\n"
     ]
    },
    {
     "name": "stderr",
     "output_type": "stream",
     "text": [
      "/Users/mohammedkhaledalnuaimi/opt/anaconda3/lib/python3.8/site-packages/sklearn/utils/validation.py:63: DataConversionWarning: A column-vector y was passed when a 1d array was expected. Please change the shape of y to (n_samples, ), for example using ravel().\n",
      "  return f(*args, **kwargs)\n"
     ]
    }
   ],
   "source": [
    "# Put your code here\n",
    "p = Perceptron(penalty='l2')\n",
    "p=p.fit(train_vectors, train_labels)\n",
    "\n",
    "\n",
    "\n",
    "\n",
    "\n",
    "predictions_test = p.predict(test_vectors)\n",
    "test_score = accuracy_score(predictions_test, test_labels)\n",
    "\n",
    "\n",
    "print(\"score on test data: \", test_score)"
   ]
  },
  {
   "cell_type": "code",
   "execution_count": 111,
   "metadata": {},
   "outputs": [
    {
     "name": "stdout",
     "output_type": "stream",
     "text": [
      "score on test data:  0.5879396984924623\n"
     ]
    },
    {
     "name": "stderr",
     "output_type": "stream",
     "text": [
      "/Users/mohammedkhaledalnuaimi/opt/anaconda3/lib/python3.8/site-packages/sklearn/utils/validation.py:63: DataConversionWarning: A column-vector y was passed when a 1d array was expected. Please change the shape of y to (n_samples, ), for example using ravel().\n",
      "  return f(*args, **kwargs)\n"
     ]
    }
   ],
   "source": [
    "# Put your code here\n",
    "p = Perceptron(penalty='l1')\n",
    "p=p.fit(train_vectors, train_labels)\n",
    "\n",
    "\n",
    "\n",
    "\n",
    "\n",
    "predictions_test = p.predict(test_vectors)\n",
    "test_score = accuracy_score(predictions_test, test_labels)\n",
    "\n",
    "\n",
    "print(\"score on test data: \", test_score)"
   ]
  },
  {
   "cell_type": "code",
   "execution_count": 112,
   "metadata": {},
   "outputs": [
    {
     "name": "stdout",
     "output_type": "stream",
     "text": [
      "score on test data:  0.542713567839196\n"
     ]
    },
    {
     "name": "stderr",
     "output_type": "stream",
     "text": [
      "/Users/mohammedkhaledalnuaimi/opt/anaconda3/lib/python3.8/site-packages/sklearn/utils/validation.py:63: DataConversionWarning: A column-vector y was passed when a 1d array was expected. Please change the shape of y to (n_samples, ), for example using ravel().\n",
      "  return f(*args, **kwargs)\n"
     ]
    }
   ],
   "source": [
    "# Put your code here\n",
    "p = Perceptron(penalty='elasticnet')\n",
    "p=p.fit(train_vectors, train_labels)\n",
    "\n",
    "\n",
    "\n",
    "\n",
    "\n",
    "predictions_test = p.predict(test_vectors)\n",
    "test_score = accuracy_score(predictions_test, test_labels)\n",
    "\n",
    "\n",
    "print(\"score on test data: \", test_score)"
   ]
  },
  {
   "cell_type": "markdown",
   "metadata": {},
   "source": [
    "---\n",
    "### &#128721; STOP\n",
    "**Pause to commit your changes to your Git repository!**\n",
    "\n",
    "Take a moment to save your notebook, commit the changes to your Git repository using the commit message \"Committing Part 3\", and push the changes to GitHub.\n",
    "\n",
    "---"
   ]
  },
  {
   "cell_type": "markdown",
   "metadata": {},
   "source": [
    "---\n",
    "## Part 4. Principal Component Analysis (6 points)\n",
    "\n",
    "The full model uses all 10 features to predict the results. In many cases, we might need to see how close we can get with fewer features. But instead of simply removing features, we will use a Principal Component Analysis (PCA) to determine the combined features that contribute the most the model (through their accounted variance).\n",
    "\n",
    "**&#9989; Question 4.1 (1 point):** Do a little bit of data preparation before we perform our PCA.\n",
    "\n",
    "Because the features in our dataset have very different ranges of values, the variation captured by the PCA will be skewed by these relative differences. As a result, it is good practice to **normalize** the features so that they have comparable ranges of values. Thankfully, `sklearn` has a useful function for doing this!\n",
    "\n",
    "```from sklearn.preprocessing import MinMaxScaler```\n",
    "\n",
    "Perform a \"Min-Max\" scaling to normalize the features and store the new normalized features in a new dataframe called as `features_norm`."
   ]
  },
  {
   "cell_type": "code",
   "execution_count": 113,
   "metadata": {},
   "outputs": [
    {
     "data": {
      "text/plain": [
       "793"
      ]
     },
     "execution_count": 113,
     "metadata": {},
     "output_type": "execute_result"
    }
   ],
   "source": [
    "# Put your code here\n",
    "from sklearn.preprocessing import MinMaxScaler\n",
    "scaler = MinMaxScaler()\n",
    "f1=scaler.fit(features)\n",
    "features_norm=f1.transform(features)\n",
    "len(features_norm)"
   ]
  },
  {
   "cell_type": "markdown",
   "metadata": {},
   "source": [
    "**&#9989; Question 4.2 (1 point):** As you did in Question 2.2.1 above, split your new normalized features and corresponding labels (the labels are the same as before) into a training and a testing set, with the training set representing 75% of your data. For reproducibility , set the `random_state` argument to `314159`. Print the lengths to show you have the right number of entries."
   ]
  },
  {
   "cell_type": "code",
   "execution_count": 114,
   "metadata": {},
   "outputs": [
    {
     "name": "stdout",
     "output_type": "stream",
     "text": [
      "594\n",
      "199\n"
     ]
    }
   ],
   "source": [
    "# Put your code here\n",
    "# Put your code here\n",
    "train_vectors,test_vectors,train_labels,test_labels=train_test_split(features_norm,labels,test_size=0.25,\n",
    "                                                                     random_state=314159)\n",
    "\n",
    "print(len(train_vectors))\n",
    "print(len(test_vectors))"
   ]
  },
  {
   "cell_type": "markdown",
   "metadata": {},
   "source": [
    "**&#9989; Question 4.3 (3 points):** Run a Principle Component Analysis (PCA)\n",
    "\n",
    "Since we only have 10 features to start with, let's see how well we can do if we try to aggressively reduce the feature count and use only **3** principle components. We'll see how well we can predict the labels of dataset with just three!\n",
    "\n",
    "\n",
    "(1) Using `PCA()` and the associated `fit()` method, run a principle component analysis on your training features using only 3 components. \n",
    "\n",
    "(2) Transform both the test and training features using the result of your PCA. \n",
    "\n",
    "(3) Print the `explained_variance_ratio_`."
   ]
  },
  {
   "cell_type": "code",
   "execution_count": 115,
   "metadata": {},
   "outputs": [
    {
     "name": "stdout",
     "output_type": "stream",
     "text": [
      "[0.29811269 0.24310656 0.17698509]\n",
      "These 3 eigenvectors account for a total of 71 percent of the total variance in the original dataset\n"
     ]
    }
   ],
   "source": [
    "# Put your code here\n",
    "model=PCA(n_components=3)\n",
    "result=model.fit(train_vectors)\n",
    "\n",
    "pca_train_vectors = model.transform(train_vectors)\n",
    "pca_test_vectors = model.transform(test_vectors)\n",
    "\n",
    "print(model.explained_variance_ratio_)\n",
    "\n",
    "total_variance = np.sum(model.explained_variance_ratio_)*100\n",
    "print(\"These %d eigenvectors account for a total of %d percent of the total variance in the original dataset\"\n",
    "      % (3, total_variance))"
   ]
  },
  {
   "cell_type": "markdown",
   "metadata": {},
   "source": [
    "&#9989; **Question 4.4 (1 point):** What is the total explained variance ratio captured by the 3 principle components? (just quote the number) How well do you think a model with these many features will perform? Why?"
   ]
  },
  {
   "cell_type": "markdown",
   "metadata": {},
   "source": [
    "They account for 71 precent. I believe it would preform great. many features dont account well."
   ]
  },
  {
   "cell_type": "markdown",
   "metadata": {},
   "source": [
    "---\n",
    "### &#128721; STOP\n",
    "**Pause to commit your changes to your Git repository!**\n",
    "\n",
    "Take a moment to save your notebook, commit the changes to your Git repository using the commit message \"Committing Part 4\", and push the changes to GitHub.\n",
    "\n",
    "---"
   ]
  },
  {
   "cell_type": "markdown",
   "metadata": {},
   "source": [
    "---\n",
    "## 5. Support vector machine based on PCA (14 points)\n",
    "\n",
    "### 5.1 Support vector machine (6 points)\n",
    "\n",
    "For this part, you will build SVC model using the 3 components from PCA, and do grid search to find the best hyperparameters."
   ]
  },
  {
   "cell_type": "markdown",
   "metadata": {},
   "source": [
    "**&#9989; Question 5.1.1 (2 points):** Build a linear SVC model with `C=0.1`, and fit it to the training set (using the 3 PCA components from the training set).\n",
    "\n",
    "Then use the test features to predict the labels for the testing set. \n",
    "\n",
    "Evaluate the model's performance using the **confusion matrix** and **classification report**."
   ]
  },
  {
   "cell_type": "code",
   "execution_count": 116,
   "metadata": {},
   "outputs": [
    {
     "name": "stdout",
     "output_type": "stream",
     "text": [
      "[[69 25]\n",
      " [50 55]]\n",
      "              precision    recall  f1-score   support\n",
      "\n",
      "           0       0.73      0.58      0.65       119\n",
      "           1       0.52      0.69      0.59        80\n",
      "\n",
      "    accuracy                           0.62       199\n",
      "   macro avg       0.63      0.63      0.62       199\n",
      "weighted avg       0.65      0.62      0.63       199\n",
      "\n"
     ]
    }
   ],
   "source": [
    "# Put your code here\n",
    "model2=SVC(kernel='linear',C=0.1)\n",
    "s1=model2.fit(pca_train_vectors,np.ravel(train_labels))\n",
    "s2=s1.predict(pca_test_vectors)\n",
    "print(confusion_matrix(test_labels,s2))\n",
    "print(classification_report(s2,test_labels))"
   ]
  },
  {
   "cell_type": "markdown",
   "metadata": {},
   "source": [
    "**&#9989; Question 5.1.2 (3 points):** Find the best hyperparameters\n",
    "\n",
    "At this point, we have fit one SVC model and determined it's performance, but is it the best model? We can use `GridSearchCV` to find the best model (given our choices of parameters). Once we do that, we will use that \"best\" model for making predictions.\n",
    "\n",
    "Using the following parameters (`C` = `1e-3`, `0.01`, `0.1`, `1`, `10`, `100` and `gamma` = `1e-6`, `1e-5`, `1e-4`, `1e-3`, `0.01`, `0.1`) for both a `linear` and `rbf` kernel use `GridSearchCV` with the `SVC()` model to find the best fit parameters. Once, you've run the grid search, print the \"best estimators\"."
   ]
  },
  {
   "cell_type": "code",
   "execution_count": 117,
   "metadata": {},
   "outputs": [
    {
     "name": "stdout",
     "output_type": "stream",
     "text": [
      "Best estimator found by grid search:\n",
      "SVC(C=10, class_weight='balanced', gamma=1e-06, kernel='linear')\n",
      "Best parameters found by grid search:\n",
      "{'C': 10, 'gamma': 1e-06, 'kernel': 'linear'}\n",
      "Runtime 4.7889931201934814\n"
     ]
    }
   ],
   "source": [
    "# Put your code here\n",
    "import time\n",
    "start = time.time()\n",
    "param_grid = {'C': [1e-3, 0.01, 1, 10, 100],\n",
    "              'gamma': [0.000001, 0.000001, 0.00001, 0.0001, 0.001, 0.01,0.1],\n",
    "              'kernel': ['linear','rbf']}\n",
    "# make a classifier by searching over a classifier and the parameter grid\n",
    "clf = GridSearchCV(SVC(class_weight='balanced'), param_grid)\n",
    "\n",
    "clf = clf.fit(pca_train_vectors, np.ravel(train_labels))\n",
    "print(\"Best estimator found by grid search:\")\n",
    "print(clf.best_estimator_)\n",
    "print(\"Best parameters found by grid search:\")\n",
    "print(clf.best_params_)\n",
    "\n",
    "end = time.time()\n",
    "print(\"Runtime\",end - start)\n",
    "\n"
   ]
  },
  {
   "cell_type": "markdown",
   "metadata": {},
   "source": [
    "&#9989; **Question 5.1.3 (1 point):**  Evaluate the best fit model\n",
    "\n",
    "Now that we have found the \"best estimators\", let's determine how good the fit is.\n",
    "\n",
    "Use the test features to predict the labels, based on the best model. Evaluate the performance using the **confusion matrix** and **classification report**."
   ]
  },
  {
   "cell_type": "code",
   "execution_count": 65,
   "metadata": {},
   "outputs": [
    {
     "name": "stdout",
     "output_type": "stream",
     "text": [
      "[[62 48]\n",
      " [32 57]]\n",
      "              precision    recall  f1-score   support\n",
      "\n",
      "           0       0.66      0.56      0.61       110\n",
      "           1       0.54      0.64      0.59        89\n",
      "\n",
      "    accuracy                           0.60       199\n",
      "   macro avg       0.60      0.60      0.60       199\n",
      "weighted avg       0.61      0.60      0.60       199\n",
      "\n"
     ]
    }
   ],
   "source": [
    "# Put your code here\n",
    "# Put your code here\n",
    "model2=SVC(kernel='linear',C=10,gamma=0.000001)\n",
    "s1=model2.fit(pca_train_vectors,np.ravel(train_labels))\n",
    "s2=s1.predict(pca_test_vectors)\n",
    "print(confusion_matrix(s2,test_labels))\n",
    "print(classification_report(s2,test_labels))"
   ]
  },
  {
   "cell_type": "markdown",
   "metadata": {},
   "source": [
    "### 5.2 How well does PCA work? (8 points)\n",
    "The number of components we use in our PCA matters. Let's investigate how they matter by systematically building a model for any number of selected components. While this might seem a bit unnecessary for such a simple dataset, **this can be very useful for more complex datasets and models!**\n",
    "\n",
    "**&#9989; Question 5.2.1 (3 points):**\n",
    "\n",
    "To systematically explore how well PCA improves our classification model, we will do this by writing a function that \n",
    "* creates the PCA\n",
    "* creates the SVC model\n",
    "* uses `GridSearchCV` to find the best hyperparameters\n",
    "* predicts the labels using test data\n",
    "* returns the accuracy scores and the explained variance ratio.\n",
    "\n",
    "Just as you did in Question 5.1.2, use the following parameters (`C` = `1e-3`, `0.01`, `0.1`, `1`, `10`, `100` and `gamma` = `1e-6`, `1e-5`, `1e-4`, `1e-3`, `0.01`, `0.1`) for both a `linear` and `rbf` kernel use `GridSearchCV` with the `SVC()` model to find the best fit parameters.\n",
    "\n",
    "So, Your function will take as input:\n",
    "* the number of requested PCA components\n",
    "* the training feature data\n",
    "* the testing feature data\n",
    "* the training data labels\n",
    "* the test data labels\n",
    "\n",
    "and it should **return** the accuracy score for an SVC model fit to pca transformed features and the **total** explained variance ratio (i.e. the sum of the explained variance for each component)."
   ]
  },
  {
   "cell_type": "code",
   "execution_count": 88,
   "metadata": {},
   "outputs": [
    {
     "data": {
      "text/plain": [
       "(71.82043490884224, 0.6130653266331658)"
      ]
     },
     "execution_count": 88,
     "metadata": {},
     "output_type": "execute_result"
    }
   ],
   "source": [
    "# Put your code here\n",
    "\n",
    "def reduced_SVM(n_components, train_features, train_labels, test_features, test_labels):\n",
    "    model=PCA(n_components=n_components)\n",
    "    result=model.fit(train_features)\n",
    "\n",
    "    pca_train_vectors = model.transform(train_features)\n",
    "    pca_test_vectors = model.transform(test_features)\n",
    "\n",
    "    total_variance = np.sum(model.explained_variance_ratio_)*100\n",
    "    param_grid = {'C': [1e-3, 0.01, 1, 10, 100],\n",
    "              'gamma': [0.000001, 0.000001, 0.00001, 0.0001, 0.001, 0.01,0.1],\n",
    "              'kernel': ['linear','rbf']}\n",
    "# make a classifier by searching over a classifier and the parameter grid\n",
    "    clf = GridSearchCV(SVC(class_weight='balanced'), param_grid)\n",
    "\n",
    "    clf = clf.fit(pca_train_vectors, np.ravel(train_labels))\n",
    "    \n",
    "    predict_vectors = pca_test_vectors\n",
    "    true_labels = test_labels\n",
    "    pred_labels = clf.predict(predict_vectors)\n",
    "    test_score = accuracy_score(pred_labels, true_labels)\n",
    "    \n",
    "    return total_variance,test_score\n",
    "    \n",
    "    \n",
    "    \n",
    "reduced_SVM(3,train_vectors,train_labels,test_vectors,test_labels)\n",
    "    \n",
    "    "
   ]
  },
  {
   "cell_type": "markdown",
   "metadata": {},
   "source": [
    "**&#9989; Question 5.2.2 (2 points):**\n",
    "\n",
    "Now that you have created a function that returns the accuracy for a given number of components, we will use that to plot the how the accuracy of your SVC model changes when we increase the number of components used in the PCA.\n",
    "\n",
    "For 1 through 10 components, use your function above to compute and store (as a list) the accuracy of your models and the total explained variance ratio of your models."
   ]
  },
  {
   "cell_type": "code",
   "execution_count": 92,
   "metadata": {},
   "outputs": [
    {
     "data": {
      "text/plain": [
       "[29.811269174926263,\n",
       " 54.12192542389446,\n",
       " 71.82043490884233,\n",
       " 87.1454176675429,\n",
       " 93.16759580890913,\n",
       " 97.30617057541264,\n",
       " 98.5766355964589,\n",
       " 99.22807597847138,\n",
       " 99.7011371241809,\n",
       " 99.99999999999999]"
      ]
     },
     "execution_count": 92,
     "metadata": {},
     "output_type": "execute_result"
    }
   ],
   "source": [
    "# Put your code here\n",
    "accuracy=[]\n",
    "total_variance=[]\n",
    "for i in range(1,11):\n",
    "    s=reduced_SVM(i,train_vectors,train_labels,test_vectors,test_labels)\n",
    "    accuracy.append(s[1])\n",
    "    total_variance.append(s[0])\n",
    "    \n",
    "accuracy\n",
    "total_variance"
   ]
  },
  {
   "cell_type": "markdown",
   "metadata": {},
   "source": [
    "**&#9989; Question 5.2.3 (1 point):** Plot the accuracy vs # of components."
   ]
  },
  {
   "cell_type": "code",
   "execution_count": 96,
   "metadata": {},
   "outputs": [
    {
     "data": {
      "text/plain": [
       "Text(0, 0.5, 'accuracy')"
      ]
     },
     "execution_count": 96,
     "metadata": {},
     "output_type": "execute_result"
    },
    {
     "data": {
      "image/png": "[encoded data removed]",
      "text/plain": [
       "<Figure size 432x288 with 1 Axes>"
      ]
     },
     "metadata": {
      "needs_background": "light"
     },
     "output_type": "display_data"
    }
   ],
   "source": [
    "# Put your code here\n",
    "plt.plot(range(1,11),accuracy)\n",
    "plt.xlabel('# of components')\n",
    "plt.ylabel('accuracy')"
   ]
  },
  {
   "cell_type": "markdown",
   "metadata": {},
   "source": [
    "**&#9989; Question 5.2.4 (1 point):** Where does it seem like we have diminishing returns? That is, at what point is there no major increase in accuracy (or perhaps the accuracy is decreased) as we add additional components to the PCA?"
   ]
  },
  {
   "cell_type": "markdown",
   "metadata": {},
   "source": [
    "<font size=+3>&#9998;</font> Because the features then have less impact on the model. 5 features had 69% accuracy. "
   ]
  },
  {
   "cell_type": "markdown",
   "metadata": {},
   "source": [
    "**&#9989; Task 5.2.5 (1 point):** Plot the total explained variance ratio vs # of components. "
   ]
  },
  {
   "cell_type": "code",
   "execution_count": 94,
   "metadata": {},
   "outputs": [
    {
     "data": {
      "text/plain": [
       "Text(0, 0.5, 'total_variance')"
      ]
     },
     "execution_count": 94,
     "metadata": {},
     "output_type": "execute_result"
    },
    {
     "data": {
      "image/png": "[encoded data removed]",
      "text/plain": [
       "<Figure size 432x288 with 1 Axes>"
      ]
     },
     "metadata": {
      "needs_background": "light"
     },
     "output_type": "display_data"
    }
   ],
   "source": [
    "# Put your code here\n",
    "plt.plot(range(1,11),total_variance)\n",
    "plt.xlabel('# of components')\n",
    "plt.ylabel('total_variance')"
   ]
  },
  {
   "cell_type": "markdown",
   "metadata": {},
   "source": [
    "---\n",
    "### &#128721; STOP\n",
    "**Pause to commit your changes to your Git repository!**\n",
    "\n",
    "Take a moment to save your notebook, commit the changes to your Git repository using the commit message \"Committing Part 5\", and push the changes to GitHub.\n",
    "\n",
    "---"
   ]
  },
  {
   "cell_type": "markdown",
   "metadata": {},
   "source": [
    "---\n",
    "## Assignment wrap-up¶\n",
    "Please fill out the form that appears when you run the code below. **You must completely fill this out in order to receive credit for the assignment!**"
   ]
  },
  {
   "cell_type": "code",
   "execution_count": 118,
   "metadata": {},
   "outputs": [
    {
     "data": {
      "text/html": [
       "\n",
       "<iframe \n",
       "\tsrc=\"https://forms.office.com/Pages/ResponsePage.aspx?id=MHEXIi9k2UGSEXQjetVofa-byNJHa0xBs0jOGcRl02lURU83U0ZHUUpWUUFRUzhCQ0JZWDQxVVRUVi4u\" \n",
       "\twidth=\"800px\" \n",
       "\theight=\"600px\" \n",
       "\tframeborder=\"0\" \n",
       "\tmarginheight=\"0\" \n",
       "\tmarginwidth=\"0\">\n",
       "\tLoading...\n",
       "</iframe>\n"
      ],
      "text/plain": [
       "<IPython.core.display.HTML object>"
      ]
     },
     "execution_count": 118,
     "metadata": {},
     "output_type": "execute_result"
    }
   ],
   "source": [
    "from IPython.display import HTML\n",
    "HTML(\n",
    "\"\"\"\n",
    "<iframe \n",
    "\tsrc=\"https://forms.office.com/Pages/ResponsePage.aspx?id=MHEXIi9k2UGSEXQjetVofa-byNJHa0xBs0jOGcRl02lURU83U0ZHUUpWUUFRUzhCQ0JZWDQxVVRUVi4u\" \n",
    "\twidth=\"800px\" \n",
    "\theight=\"600px\" \n",
    "\tframeborder=\"0\" \n",
    "\tmarginheight=\"0\" \n",
    "\tmarginwidth=\"0\">\n",
    "\tLoading...\n",
    "</iframe>\n",
    "\"\"\"\n",
    ")"
   ]
  },
  {
   "cell_type": "markdown",
   "metadata": {},
   "source": [
    "### Congratulations, you're done!\n",
    "Submit this assignment by uploading it to the course Desire2Learn web page. Go to the \"Homework Assignments\" folder, find the submission folder for Homework #5, and upload your notebook."
   ]
  }
 ],
 "metadata": {
  "kernelspec": {
   "display_name": "Python 3",
   "language": "python",
   "name": "python3"
  },
  "language_info": {
   "codemirror_mode": {
    "name": "ipython",
    "version": 3
   },
   "file_extension": ".py",
   "mimetype": "text/x-python",
   "name": "python",
   "nbconvert_exporter": "python",
   "pygments_lexer": "ipython3",
   "version": "3.8.8"
  }
 },
 "nbformat": 4,
 "nbformat_minor": 4
}
