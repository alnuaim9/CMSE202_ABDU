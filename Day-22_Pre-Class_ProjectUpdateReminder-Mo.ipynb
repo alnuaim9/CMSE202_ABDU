{
 "cells": [
  {
   "cell_type": "markdown",
   "metadata": {},
   "source": [
    "# Pre-Class Assignment: Project updates!\n",
    "# Day 22 \n",
    "# CMSE 202"
   ]
  },
  {
   "cell_type": "markdown",
   "metadata": {},
   "source": [
    "## <p style=\"text-align: right;\"> &#9989; Mohammed Alnuaimi</p>"
   ]
  },
  {
   "cell_type": "markdown",
   "metadata": {},
   "source": [
    "## Goals for today's pre-class assignment \n",
    "\n",
    "1. Make sure you're ready to give you project update in class!\n",
    "\n",
    "## Assignment instructions\n",
    "\n",
    "**This assignment is due by 11:59 p.m. the day before class** and should be uploaded into the appropriate \"Pre-class assignments\" submission folder in the Desire2Learn website. "
   ]
  },
  {
   "cell_type": "markdown",
   "metadata": {},
   "source": [
    "---\n",
    "## Remember: project updates will be happening in class!\n",
    "\n",
    "For the Day 22 in-class activity, **each project group will be giving a short _4 minute_ project update.**\n",
    "\n",
    "The details for the project update were provided in the Day 21 pre-class assignment.\n",
    "\n",
    "They have been reproduced here for easy of reference:\n",
    "\n",
    "> Now that you've been assigned your project group and hopefully had a meeting or two at this point, we want to check in and see how your group is doing on making some forward progress on your project.\n",
    ">\n",
    "> **You should find a time to meet with your group or have a conversation via Slack such that you can prepare to give a project update**.\n",
    ">\n",
    ">  As a group, you will give a project update to the rest of the class **during the \"Day 22\" class period**. For the project update, be prepared to:\n",
    ">\n",
    "> 1. Give a **4-minute** presentation to the rest of class on Zoom.\n",
    "> 2. Present a **short** set of slides (Google Slides is probably the easiest option for collaboration) that highlight the following:\n",
    ">     * Your assigned project topic and any modifications or new directions you've gone in since being assigned the project.\n",
    ">     * A **brief** bit of background about the topic.\n",
    ">     * The question(s) you hope to answer as part of the your project.\n",
    ">     * The datasets you've found or models you plan to use to answer your questions.\n",
    ">     * The Python tools you are using or plan to use.\n",
    ">     * Any details on additional project you've made on the project thus far.\n",
    "> 3. Create an opportunity for everyone in your group to say something.\n",
    "> 4. **Stop at 4 minutes**. We want to make sure every group has time to present, so pay attention to time.\n",
    ">\n",
    "> Your final project will be due during finals week. The official day/time will be announced by your instructor. **You may wish to review the project grading rubric and requirements available [here](https://msu-cmse-courses.github.io/cmse202-S22-jb/course_materials/CMSE202_FinalProjectRequirementsAndGradingRubric.html) on the course website.**\n",
    "\n",
    "You will be expected to upload a copy of your project update slides as part of your Day 22 in-class participate grade.\n",
    "\n",
    "**In the pre-class wrap-up survey, make a note of any concerns you currently have about the state of your semester project.**"
   ]
  },
  {
   "cell_type": "markdown",
   "metadata": {},
   "source": [
    "----\n",
    "# Assignment wrap-up\n",
    "\n",
    "Please fill out the form that appears when you run the code below.  **You must completely fill this out in order to receive credit for the assignment!**"
   ]
  },
  {
   "cell_type": "code",
   "execution_count": 1,
   "metadata": {},
   "outputs": [
    {
     "data": {
      "text/html": [
       "\n",
       "<iframe \n",
       "\tsrc=\"https://cmse.msu.edu/cmse202-pc-survey\" \n",
       "\twidth=\"800px\" \n",
       "\theight=\"600px\" \n",
       "\tframeborder=\"0\" \n",
       "\tmarginheight=\"0\" \n",
       "\tmarginwidth=\"0\">\n",
       "\tLoading...\n",
       "</iframe>\n"
      ],
      "text/plain": [
       "<IPython.core.display.HTML object>"
      ]
     },
     "execution_count": 1,
     "metadata": {},
     "output_type": "execute_result"
    }
   ],
   "source": [
    "from IPython.display import HTML\n",
    "HTML(\n",
    "\"\"\"\n",
    "<iframe \n",
    "\tsrc=\"https://cmse.msu.edu/cmse202-pc-survey\" \n",
    "\twidth=\"800px\" \n",
    "\theight=\"600px\" \n",
    "\tframeborder=\"0\" \n",
    "\tmarginheight=\"0\" \n",
    "\tmarginwidth=\"0\">\n",
    "\tLoading...\n",
    "</iframe>\n",
    "\"\"\"\n",
    ")"
   ]
  },
  {
   "cell_type": "markdown",
   "metadata": {},
   "source": [
    "---------\n",
    "### Congratulations, you're done with your pre-class assignment!\n",
    "\n",
    "Now, you just need to submit this assignment by uploading it to the course <a href=\"https://d2l.msu.edu/\">Desire2Learn</a> web page for today's submission folder (Don't forget to add your name in the first cell)."
   ]
  },
  {
   "cell_type": "markdown",
   "metadata": {},
   "source": [
    "&#169; Copyright 2021 Department of Computational Mathematics, Science and Engineering at Michigan State University"
   ]
  }
 ],
 "metadata": {
  "anaconda-cloud": {},
  "interpreter": {
   "hash": "767d51c1340bd893661ea55ea3124f6de3c7a262a8b4abca0554b478b1e2ff90"
  },
  "kernelspec": {
   "display_name": "Python 3",
   "language": "python",
   "name": "python3"
  },
  "language_info": {
   "codemirror_mode": {
    "name": "ipython",
    "version": 3
   },
   "file_extension": ".py",
   "mimetype": "text/x-python",
   "name": "python",
   "nbconvert_exporter": "python",
   "pygments_lexer": "ipython3",
   "version": "3.8.8"
  }
 },
 "nbformat": 4,
 "nbformat_minor": 4
}
