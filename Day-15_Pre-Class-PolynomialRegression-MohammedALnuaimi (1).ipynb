{
 "cells": [
  {
   "cell_type": "markdown",
   "metadata": {},
   "source": [
    "# Pre-Class Assignment: Polynomial Regression\n",
    "# Day 15 \n",
    "# CMSE 202\n",
    "<img src=\"https://i.pinimg.com/originals/52/2c/20/522c209c019fe9592857bcb569184478.jpg\">"
   ]
  },
  {
   "cell_type": "markdown",
   "metadata": {},
   "source": [
    "### <p style=\"text-align: right;\"> &#9989; Mohammed Alnuaimi</p>"
   ]
  },
  {
   "cell_type": "markdown",
   "metadata": {},
   "source": [
    "## Goals for Pre-Class Assignment\n",
    "\n",
    "After this pre-class assignment, you will be able to:\n",
    "1. Generate data for a polynomial regression\n",
    "2. Construct a set of polynomial regression models usings `statsmodels` \n",
    "3. Evaluate the quality of fit for a set of models using adjusted $R^2$ and determine the best fit\n",
    "4. Explain why that model is the best fit for this data"
   ]
  },
  {
   "cell_type": "markdown",
   "metadata": {},
   "source": [
    "## Our Imports\n",
    "\n",
    "**Make sure to execute this cell!**"
   ]
  },
  {
   "cell_type": "code",
   "execution_count": 2,
   "metadata": {},
   "outputs": [],
   "source": [
    "import statsmodels.api as sm\n",
    "import numpy as np\n",
    "import matplotlib.pyplot as plt\n",
    "from IPython.display import HTML"
   ]
  },
  {
   "cell_type": "markdown",
   "metadata": {},
   "source": [
    "---\n",
    "## 1. Polynomial Regression\n",
    "\n",
    "Previously we focused on fitting a line to data, but as we've seen, it's possible that a straight line is not going to be good enough to model the data we are working with. We can augment our $ Ax + B$ with extra features. By adding features we are still doing linear regression, but where the features themselves can consist of, well anything.\n",
    "\n",
    "However, to limit our focus, for this pre-class we will use polynomials. We can add values like $x^2$ or $x^5$ to the potential set of features that can be used to better map against our data. \n",
    "\n",
    "&#9989; **Do This**: The question we should ask ourselves is, how many such features should we add? What are the advantages and disadvantages of adding more and more features? Think about it and answer in the cell below."
   ]
  },
  {
   "cell_type": "markdown",
   "metadata": {},
   "source": [
    "<font size=+3>&#9998;</font> Do this - Erase this and put your answer here."
   ]
  },
  {
   "cell_type": "markdown",
   "metadata": {},
   "source": [
    "### 1.1 Let's make some Data\n",
    "\n",
    "When we are first starting out with a new tool, it can be useful to generate our own data. Data we generate gives us the advantage of **knowing** what the answer should be. \n",
    "\n",
    "&#9989; **Do This**: Generate some data by doing the following:\n",
    "* build a numpy array `x_ary`of values from -4 to 4 in increments of 0.2\n",
    "* generate a corresponding `y_ary`, using the values from `x_ary`, based on the formula $x^4 + 2x^3 -15x^2 -12x + 36$\n",
    "* create `y_noisy`, by adding random (uniform) noise to `y_ary` in the range of -15 to 15. Later on we might make the range bigger (say -25 to 25) or smaller (say -5 to 5) for comparison."
   ]
  },
  {
   "cell_type": "code",
   "execution_count": 10,
   "metadata": {},
   "outputs": [],
   "source": [
    "# put your code here\n",
    "x_ary=np.arange(-4,4,0.2)\n",
    "y_ary=(x_ary)**4+(2*x_ary**(3))-(15*x_ary**(2))-12*x_ary+36\n",
    "noise = np.random.normal(-15, 15, y_ary.shape)\n",
    "y_noisy = y_ary + noise"
   ]
  },
  {
   "cell_type": "markdown",
   "metadata": {},
   "source": [
    "### 1.2 Plot the data\n",
    "\n",
    "As always, it's been to look at our data before we try to model it.\n",
    "\n",
    "&#9989; **Do This**: Plot `x_ary` vs both `y_ary` and `y_noisy`. Do it overlapping with colors, or side by side, whatever you think would look good. _Make sure to label your axes!_"
   ]
  },
  {
   "cell_type": "code",
   "execution_count": 15,
   "metadata": {},
   "outputs": [
    {
     "data": {
      "text/plain": [
       "Text(0, 0.5, 'Y values')"
      ]
     },
     "execution_count": 15,
     "metadata": {},
     "output_type": "execute_result"
    },
    {
     "data": {
      "image/png": "[encoded data removed]",
      "text/plain": [
       "<Figure size 432x288 with 1 Axes>"
      ]
     },
     "metadata": {
      "needs_background": "light"
     },
     "output_type": "display_data"
    }
   ],
   "source": [
    "# put your code here\n",
    "plt.plot(x_ary,y_ary,label='Y_array')\n",
    "plt.plot(x_ary,y_noisy,label='Noisy data')\n",
    "plt.legend()\n",
    "plt.xlabel('X values')\n",
    "plt.ylabel('Y values')"
   ]
  },
  {
   "cell_type": "markdown",
   "metadata": {},
   "source": [
    "---\n",
    "## 2 Making the Polynomial Features\n",
    "\n",
    "Ultimately it would be nice to do our work using a `pandas` DataFrame so that we have the opportunity to label our columns. There's the added benefit that `statsmodels` works well with `pandas` DataFrames. \n",
    "\n",
    "&#9989; **Do This**: Make a DataFrame consisting of the following columns: a constant value for the intercept, the values in `x_ary`, and additional powers of `x_ary` up to 10.\n",
    "\n",
    "You can do this one of two ways:\n",
    "1. make the DataFrame out of `x_ary` and add features to the DataFrame\n",
    "2. add columns to the `x_ary` array and then finish off by adding to a DataFrame\n",
    "\n",
    "In the end, you have a DataFrame no matter the approach.\n",
    "\n",
    "To state the goal for this task again, the columns of the DataFrame should be:\n",
    "* Label the first column \"const\" and just place the value 1 in it\n",
    "* make the `x_ary` data column 1, labeled \"data\"\n",
    "* the next 9 columns should be based on `x_ary` and have as values: $x^2$, $x^3$, $x^4 \\ldots$ $x^{10}$. Give them good (but short) label names\n",
    "\n",
    "Print the head of your DataFrame when you're done to make sure it looks right. It should end up looking something like this:\n",
    "\n",
    "<img src=\"https://i.ibb.co/FX5fs7f/Screen-Shot-2021-03-05-at-3-43-11-PM.png\" alt=\"Screen-Shot-2021-03-05-at-3-43-11-PM\" border=\"0\" width=800px>"
   ]
  },
  {
   "cell_type": "code",
   "execution_count": 29,
   "metadata": {},
   "outputs": [
    {
     "data": {
      "text/html": [
       "<div>\n",
       "<style scoped>\n",
       "    .dataframe tbody tr th:only-of-type {\n",
       "        vertical-align: middle;\n",
       "    }\n",
       "\n",
       "    .dataframe tbody tr th {\n",
       "        vertical-align: top;\n",
       "    }\n",
       "\n",
       "    .dataframe thead th {\n",
       "        text-align: right;\n",
       "    }\n",
       "</style>\n",
       "<table border=\"1\" class=\"dataframe\">\n",
       "  <thead>\n",
       "    <tr style=\"text-align: right;\">\n",
       "      <th></th>\n",
       "      <th>const</th>\n",
       "      <th>data</th>\n",
       "      <th>x2</th>\n",
       "      <th>x3</th>\n",
       "      <th>x4</th>\n",
       "      <th>x5</th>\n",
       "      <th>x6</th>\n",
       "      <th>x7</th>\n",
       "      <th>x8</th>\n",
       "      <th>x9</th>\n",
       "      <th>x10</th>\n",
       "    </tr>\n",
       "  </thead>\n",
       "  <tbody>\n",
       "    <tr>\n",
       "      <th>0</th>\n",
       "      <td>1</td>\n",
       "      <td>-4.0</td>\n",
       "      <td>16.00</td>\n",
       "      <td>-64.000</td>\n",
       "      <td>256.0000</td>\n",
       "      <td>-1024.00000</td>\n",
       "      <td>4096.000000</td>\n",
       "      <td>-16384.000000</td>\n",
       "      <td>65536.000000</td>\n",
       "      <td>-262144.000000</td>\n",
       "      <td>1.048576e+06</td>\n",
       "    </tr>\n",
       "    <tr>\n",
       "      <th>1</th>\n",
       "      <td>1</td>\n",
       "      <td>-3.8</td>\n",
       "      <td>14.44</td>\n",
       "      <td>-54.872</td>\n",
       "      <td>208.5136</td>\n",
       "      <td>-792.35168</td>\n",
       "      <td>3010.936384</td>\n",
       "      <td>-11441.558259</td>\n",
       "      <td>43477.921385</td>\n",
       "      <td>-165216.101263</td>\n",
       "      <td>6.278212e+05</td>\n",
       "    </tr>\n",
       "    <tr>\n",
       "      <th>2</th>\n",
       "      <td>1</td>\n",
       "      <td>-3.6</td>\n",
       "      <td>12.96</td>\n",
       "      <td>-46.656</td>\n",
       "      <td>167.9616</td>\n",
       "      <td>-604.66176</td>\n",
       "      <td>2176.782336</td>\n",
       "      <td>-7836.416410</td>\n",
       "      <td>28211.099075</td>\n",
       "      <td>-101559.956668</td>\n",
       "      <td>3.656158e+05</td>\n",
       "    </tr>\n",
       "    <tr>\n",
       "      <th>3</th>\n",
       "      <td>1</td>\n",
       "      <td>-3.4</td>\n",
       "      <td>11.56</td>\n",
       "      <td>-39.304</td>\n",
       "      <td>133.6336</td>\n",
       "      <td>-454.35424</td>\n",
       "      <td>1544.804416</td>\n",
       "      <td>-5252.335014</td>\n",
       "      <td>17857.939049</td>\n",
       "      <td>-60716.992766</td>\n",
       "      <td>2.064378e+05</td>\n",
       "    </tr>\n",
       "    <tr>\n",
       "      <th>4</th>\n",
       "      <td>1</td>\n",
       "      <td>-3.2</td>\n",
       "      <td>10.24</td>\n",
       "      <td>-32.768</td>\n",
       "      <td>104.8576</td>\n",
       "      <td>-335.54432</td>\n",
       "      <td>1073.741824</td>\n",
       "      <td>-3435.973837</td>\n",
       "      <td>10995.116278</td>\n",
       "      <td>-35184.372089</td>\n",
       "      <td>1.125900e+05</td>\n",
       "    </tr>\n",
       "  </tbody>\n",
       "</table>\n",
       "</div>"
      ],
      "text/plain": [
       "   const  data     x2      x3        x4          x5           x6  \\\n",
       "0      1  -4.0  16.00 -64.000  256.0000 -1024.00000  4096.000000   \n",
       "1      1  -3.8  14.44 -54.872  208.5136  -792.35168  3010.936384   \n",
       "2      1  -3.6  12.96 -46.656  167.9616  -604.66176  2176.782336   \n",
       "3      1  -3.4  11.56 -39.304  133.6336  -454.35424  1544.804416   \n",
       "4      1  -3.2  10.24 -32.768  104.8576  -335.54432  1073.741824   \n",
       "\n",
       "             x7            x8             x9           x10  \n",
       "0 -16384.000000  65536.000000 -262144.000000  1.048576e+06  \n",
       "1 -11441.558259  43477.921385 -165216.101263  6.278212e+05  \n",
       "2  -7836.416410  28211.099075 -101559.956668  3.656158e+05  \n",
       "3  -5252.335014  17857.939049  -60716.992766  2.064378e+05  \n",
       "4  -3435.973837  10995.116278  -35184.372089  1.125900e+05  "
      ]
     },
     "execution_count": 29,
     "metadata": {},
     "output_type": "execute_result"
    }
   ],
   "source": [
    "# put your code here\n",
    "import pandas as pd\n",
    "const=[1 for i in range(len(x_ary))]\n",
    "data=x_ary\n",
    "x2=x_ary**2\n",
    "x3=x_ary**3\n",
    "x4=x_ary**4\n",
    "x5=x_ary**5\n",
    "x6=x_ary**6\n",
    "x7=x_ary**7\n",
    "x8=x_ary**8\n",
    "x9=x_ary**9\n",
    "x10=x_ary**10\n",
    "\n",
    "\n",
    "list_of_tuples = list(zip(const, data,x2,x3,x4,x5,x6,x7,x8,x9,x10))\n",
    "df = pd.DataFrame(list_of_tuples,columns=['const','data','x2','x3','x4','x5','x6','x7','x8','x9','x10'])\n",
    "df.head()"
   ]
  },
  {
   "cell_type": "markdown",
   "metadata": {},
   "source": [
    "### 2.1 Fitting using the Polynomials\n",
    "\n",
    "We'll talk about measures of \"goodness\" of fit during the class, but one good measure for a multi-feature fit is the **Adjusted R-squared** value. In general, the **R-squared** describes the variance in the model that it can account for. If the R-squared is 1.0, then all the variance is accounted for an you have a perfect fit. If the value is 0 and you have no fit. However, for multiple features R-squared tends to over-estimate. The Adjusted R-squared tries to deal with this and provide a value that is better suited to multiple features.\n",
    "\n",
    "We'll leave it to you how you want to do this, but what we'd like you to try is to fit different combinations of features against `y_noisy` and report the Adjusted R-squared value. For example, what is the Adjusted R-squared for:\n",
    "\n",
    "1. just the const column\n",
    "2. the const and data columns (which should be a line)\n",
    "3. the const, data and $x^2$ columns\n",
    "4. the const, data, $x^2$ and $x^3$ columns\n",
    "5. $\\ldots$\n",
    "\n",
    "So on and so forth. You can do them individually or on a loop and collect the results. \n",
    "\n",
    "The object that is returned by the `.fit()` method is an instance of a `statsmodels` \"`statsmodels.regression.linear_model.RegressionResults`\". Run the `type` command on it and see. If you look on the <a href=\"https://www.statsmodels.org/stable/generated/statsmodels.regression.linear_model.RegressionResults.html#statsmodels.regression.linear_model.RegressionResults\"> statsmodels doc page </a> under \"Properties\" (scroll down and look for that word as a title), you will find  all values you can gather from the variable returned by `.fit()`. For this assignment the most important one of those is `.rsquared_adj`. \n",
    "\n",
    "&#9989; **Do This**: Explore a variety of models that fit to the noisy data using increasingly more features. Look at that value for the combination of features you selected and say which one is the \"best\". For this assignment, we would consider the \"best\" would be the highest value of `.rsquared_adj`.\n",
    "\n",
    "**Note**: you do not have to try an exhaustive set of models (though you could set this up with a loop), just explore a variety of combinations and reflect on the results."
   ]
  },
  {
   "cell_type": "code",
   "execution_count": 45,
   "metadata": {},
   "outputs": [
    {
     "name": "stdout",
     "output_type": "stream",
     "text": [
      "0.0\n"
     ]
    }
   ],
   "source": [
    "# put your code here\n",
    "# RegressionResults.rsquared_adj\n",
    "\n",
    "\n",
    "model = sm.OLS(y_noisy, df['const'])\n",
    "results = model.fit()\n",
    "print(results.rsquared_adj)\n",
    "\n"
   ]
  },
  {
   "cell_type": "code",
   "execution_count": 47,
   "metadata": {},
   "outputs": [
    {
     "name": "stdout",
     "output_type": "stream",
     "text": [
      "0.24940414405385314\n"
     ]
    }
   ],
   "source": [
    "X=df[['const', 'data']]\n",
    "x_with_cnst = sm.add_constant(X)\n",
    "model = sm.OLS(y_noisy,X)\n",
    "results = model.fit()\n",
    "print(results.rsquared_adj)\n",
    "\n",
    "    \n",
    "    "
   ]
  },
  {
   "cell_type": "code",
   "execution_count": 49,
   "metadata": {},
   "outputs": [
    {
     "name": "stdout",
     "output_type": "stream",
     "text": [
      "0.25293692508014065\n"
     ]
    }
   ],
   "source": [
    "X=df[['const', 'data','x2']]\n",
    "x_with_cnst = sm.add_constant(X)\n",
    "model = sm.OLS(y_noisy,X)\n",
    "results = model.fit()\n",
    "print(results.rsquared_adj)"
   ]
  },
  {
   "cell_type": "code",
   "execution_count": 50,
   "metadata": {},
   "outputs": [
    {
     "name": "stdout",
     "output_type": "stream",
     "text": [
      "0.48382642058184244\n"
     ]
    }
   ],
   "source": [
    "X=df[['const', 'data','x2','x3']]\n",
    "x_with_cnst = sm.add_constant(X)\n",
    "model = sm.OLS(y_noisy,X)\n",
    "results = model.fit()\n",
    "print(results.rsquared_adj)"
   ]
  },
  {
   "cell_type": "code",
   "execution_count": 58,
   "metadata": {},
   "outputs": [
    {
     "name": "stdout",
     "output_type": "stream",
     "text": [
      "0.8538789929933116\n"
     ]
    }
   ],
   "source": [
    "X=df[['const', 'data','x2','x3','x4']]\n",
    "x_with_cnst = sm.add_constant(X)\n",
    "model = sm.OLS(y_noisy,X)\n",
    "results1 = model.fit()\n",
    "print(results1.rsquared_adj)"
   ]
  },
  {
   "cell_type": "code",
   "execution_count": 52,
   "metadata": {},
   "outputs": [
    {
     "name": "stdout",
     "output_type": "stream",
     "text": [
      "0.8512991833957074\n"
     ]
    }
   ],
   "source": [
    "X=df[['const', 'data','x2','x3','x4','x5']]\n",
    "x_with_cnst = sm.add_constant(X)\n",
    "model = sm.OLS(y_noisy,X)\n",
    "results = model.fit()\n",
    "print(results.rsquared_adj)"
   ]
  },
  {
   "cell_type": "code",
   "execution_count": 53,
   "metadata": {},
   "outputs": [
    {
     "name": "stdout",
     "output_type": "stream",
     "text": [
      "0.8468682861013497\n"
     ]
    }
   ],
   "source": [
    "X=df[['const', 'data','x2','x3','x4','x5','x6']]\n",
    "x_with_cnst = sm.add_constant(X)\n",
    "model = sm.OLS(y_noisy,X)\n",
    "results = model.fit()\n",
    "print(results.rsquared_adj)"
   ]
  },
  {
   "cell_type": "code",
   "execution_count": 54,
   "metadata": {},
   "outputs": [
    {
     "name": "stdout",
     "output_type": "stream",
     "text": [
      "0.8429838060052852\n"
     ]
    }
   ],
   "source": [
    "X=df[['const', 'data','x2','x3','x4','x5','x6','x7']]\n",
    "x_with_cnst = sm.add_constant(X)\n",
    "model = sm.OLS(y_noisy,X)\n",
    "results = model.fit()\n",
    "print(results.rsquared_adj)"
   ]
  },
  {
   "cell_type": "code",
   "execution_count": 55,
   "metadata": {},
   "outputs": [
    {
     "name": "stdout",
     "output_type": "stream",
     "text": [
      "0.8388880975786113\n"
     ]
    }
   ],
   "source": [
    "X=df[['const', 'data','x2','x3','x4','x5','x6','x7','x8']]\n",
    "x_with_cnst = sm.add_constant(X)\n",
    "model = sm.OLS(y_noisy,X)\n",
    "results = model.fit()\n",
    "print(results.rsquared_adj)"
   ]
  },
  {
   "cell_type": "code",
   "execution_count": 56,
   "metadata": {},
   "outputs": [
    {
     "name": "stdout",
     "output_type": "stream",
     "text": [
      "0.8368837424971662\n"
     ]
    }
   ],
   "source": [
    "X=df[['const', 'data','x2','x3','x4','x5','x6','x7','x8','x9']]\n",
    "x_with_cnst = sm.add_constant(X)\n",
    "model = sm.OLS(y_noisy,X)\n",
    "results = model.fit()\n",
    "print(results.rsquared_adj)"
   ]
  },
  {
   "cell_type": "code",
   "execution_count": 57,
   "metadata": {},
   "outputs": [
    {
     "name": "stdout",
     "output_type": "stream",
     "text": [
      "0.8379915813184884\n"
     ]
    }
   ],
   "source": [
    "X=df[['const', 'data','x2','x3','x4','x5','x6','x7','x8','x9','x10']]\n",
    "x_with_cnst = sm.add_constant(X)\n",
    "model = sm.OLS(y_noisy,X)\n",
    "results = model.fit()\n",
    "print(results.rsquared_adj)"
   ]
  },
  {
   "cell_type": "markdown",
   "metadata": {},
   "source": [
    "&#9989; **Questions**: Which combination of features best \"fit\" your data? What was the Adjusted R-squared? Why might that combination produce the best fit?"
   ]
  },
  {
   "cell_type": "markdown",
   "metadata": {},
   "source": [
    "<font size=+3>&#9998;</font> the const and x1,x2,x3,x4 was the best one we had, Adjusted r squared value was .85 which awesome. Because i believe its the closest to the noisy data since we had -15 or 15, and x to the power of 4 was the closest"
   ]
  },
  {
   "cell_type": "markdown",
   "metadata": {},
   "source": [
    "---\n",
    "## 3 Plot your data and your model\n",
    "\n",
    "&#9989; **Do this**:  Plot `x_ary` vs `y_noisy` and `x_ary` vs the best fitted values based on the adjusted R-squared value. Do it in the same graph. Again, the Property `.fittedvalues` gives out a panda Series with the fitted values (the y values for your best fit model). Also print out the summary for the variable returned by `.fit()`\n",
    "\n",
    "Your plot might end up looking something like this:\n",
    "\n",
    "<img src=\"https://i.ibb.co/z6LrB3N/best-fit.png\" alt=\"best-fit\" border=\"0\" width=300>"
   ]
  },
  {
   "cell_type": "code",
   "execution_count": 63,
   "metadata": {},
   "outputs": [
    {
     "data": {
      "text/plain": [
       "<matplotlib.legend.Legend at 0x7fb4401c55e0>"
      ]
     },
     "execution_count": 63,
     "metadata": {},
     "output_type": "execute_result"
    },
    {
     "data": {
      "image/png": "[encoded data removed]",
      "text/plain": [
       "<Figure size 432x288 with 1 Axes>"
      ]
     },
     "metadata": {
      "needs_background": "light"
     },
     "output_type": "display_data"
    }
   ],
   "source": [
    "# put your code here\n",
    "plt.scatter(x_ary,y_noisy,label='actual data')\n",
    "plt.plot(x_ary,results1.fittedvalues,color='y',label='best fitted data')\n",
    "plt.legend()"
   ]
  },
  {
   "cell_type": "code",
   "execution_count": 65,
   "metadata": {},
   "outputs": [
    {
     "name": "stdout",
     "output_type": "stream",
     "text": [
      "                            OLS Regression Results                            \n",
      "==============================================================================\n",
      "Dep. Variable:                      y   R-squared:                       0.869\n",
      "Model:                            OLS   Adj. R-squared:                  0.854\n",
      "Method:                 Least Squares   F-statistic:                     57.98\n",
      "Date:                Wed, 16 Mar 2022   Prob (F-statistic):           5.88e-15\n",
      "Time:                        22:06:45   Log-Likelihood:                -157.44\n",
      "No. Observations:                  40   AIC:                             324.9\n",
      "Df Residuals:                      35   BIC:                             333.3\n",
      "Df Model:                           4                                         \n",
      "Covariance Type:            nonrobust                                         \n",
      "==============================================================================\n",
      "                 coef    std err          t      P>|t|      [0.025      0.975]\n",
      "------------------------------------------------------------------------------\n",
      "const         22.7843      3.928      5.800      0.000      14.809      30.759\n",
      "data         -11.7363      2.288     -5.129      0.000     -16.382      -7.091\n",
      "x2           -14.7389      1.542     -9.560      0.000     -17.869     -11.609\n",
      "x3             2.1284      0.222      9.599      0.000       1.678       2.578\n",
      "x4             1.0408      0.108      9.601      0.000       0.821       1.261\n",
      "==============================================================================\n",
      "Omnibus:                        2.890   Durbin-Watson:                   2.169\n",
      "Prob(Omnibus):                  0.236   Jarque-Bera (JB):                2.325\n",
      "Skew:                          -0.590   Prob(JB):                        0.313\n",
      "Kurtosis:                       2.963   Cond. No.                         169.\n",
      "==============================================================================\n",
      "\n",
      "Notes:\n",
      "[1] Standard Errors assume that the covariance matrix of the errors is correctly specified.\n"
     ]
    }
   ],
   "source": [
    "print(results1.summary())"
   ]
  },
  {
   "cell_type": "markdown",
   "metadata": {},
   "source": [
    "### 3.1 Are we justified in using this model?\n",
    "\n",
    "As we did previously, we can check how well we are justified in using this model, by looking at the residual plot. \n",
    "\n",
    "&#9989; **Do this**: Again, using `plot_regress_exog`, plot the residuals as a function of the independent variable (`data` or `x`, whatever you called it)."
   ]
  },
  {
   "cell_type": "code",
   "execution_count": 66,
   "metadata": {},
   "outputs": [
    {
     "data": {
      "image/png": "[encoded data removed]",
      "text/plain": [
       "<Figure size 1080x576 with 4 Axes>"
      ]
     },
     "metadata": {
      "needs_background": "light"
     },
     "output_type": "display_data"
    }
   ],
   "source": [
    "# put your code here\n",
    "fig = plt.figure(figsize=(15,8))\n",
    "fig = sm.graphics.plot_regress_exog(results1,'data' ,fig=fig)\n"
   ]
  },
  {
   "cell_type": "markdown",
   "metadata": {},
   "source": [
    "&#9989; **Question**: Do we appear justified in using this model? Why or why not? "
   ]
  },
  {
   "cell_type": "markdown",
   "metadata": {},
   "source": [
    "<font size=+3>&#9998;</font> Yes we appear justified because there is no linear covariance"
   ]
  },
  {
   "cell_type": "markdown",
   "metadata": {},
   "source": [
    "---\n",
    "## Follow-up Questions\n",
    "\n",
    "Copy and paste the following questions into the appropriate box in the assignment survey include below and answer them there. (Note: You'll have to fill out the assignment number and go to the \"NEXT\" section of the survey to paste in these questions.)\n",
    "\n",
    "1. Which combination of features best \"fit\" your data? What was the Adjusted R-squared? Why might that combination produce the best fit? (you should be able to copy your answer to this question from above)\n",
    "\n",
    "2. Based on your plot of the residuals, do we appear justified in using this model? Why or why not? (you should be able to copy your answer to this question from above)"
   ]
  },
  {
   "cell_type": "markdown",
   "metadata": {},
   "source": [
    "----\n",
    "\n",
    "# Assignment wrap-up\n",
    "\n",
    "Hopefully you were able to get through all of that. We'll be trouble-shooting any issues you had\n",
    "\n",
    "**You must completely fill this out in order to receive credit for the assignment!**"
   ]
  },
  {
   "cell_type": "code",
   "execution_count": 67,
   "metadata": {},
   "outputs": [
    {
     "data": {
      "text/html": [
       "\n",
       "<iframe \n",
       "\tsrc=\"https://cmse.msu.edu/cmse202-pc-survey\" \n",
       "\twidth=\"800px\" \n",
       "\theight=\"600px\" \n",
       "\tframeborder=\"0\" \n",
       "\tmarginheight=\"0\" \n",
       "\tmarginwidth=\"0\">\n",
       "\tLoading...\n",
       "</iframe>\n"
      ],
      "text/plain": [
       "<IPython.core.display.HTML object>"
      ]
     },
     "execution_count": 67,
     "metadata": {},
     "output_type": "execute_result"
    }
   ],
   "source": [
    "HTML(\n",
    "\"\"\"\n",
    "<iframe \n",
    "\tsrc=\"https://cmse.msu.edu/cmse202-pc-survey\" \n",
    "\twidth=\"800px\" \n",
    "\theight=\"600px\" \n",
    "\tframeborder=\"0\" \n",
    "\tmarginheight=\"0\" \n",
    "\tmarginwidth=\"0\">\n",
    "\tLoading...\n",
    "</iframe>\n",
    "\"\"\"\n",
    ")"
   ]
  },
  {
   "cell_type": "markdown",
   "metadata": {},
   "source": [
    "---------\n",
    "### Congratulations, you're done with your pre-class assignment!\n",
    "\n",
    "Now, you just need to submit this assignment by uploading it to the course <a href=\"https://d2l.msu.edu/\">Desire2Learn</a> web page for the appropriate pre-class submission folder (Don't forget to add your name in the first cell)."
   ]
  }
 ],
 "metadata": {
  "kernelspec": {
   "display_name": "Python 3",
   "language": "python",
   "name": "python3"
  },
  "language_info": {
   "codemirror_mode": {
    "name": "ipython",
    "version": 3
   },
   "file_extension": ".py",
   "mimetype": "text/x-python",
   "name": "python",
   "nbconvert_exporter": "python",
   "pygments_lexer": "ipython3",
   "version": "3.8.8"
  }
 },
 "nbformat": 4,
 "nbformat_minor": 4
}
